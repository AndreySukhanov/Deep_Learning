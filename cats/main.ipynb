{
  "cells": [
    {
      "cell_type": "markdown",
      "metadata": {
        "id": "view-in-github",
        "colab_type": "text"
      },
      "source": [
        "<a href=\"https://colab.research.google.com/github/AndreySukhanov/Deep_Learning/blob/main/cats/main.ipynb\" target=\"_parent\"><img src=\"https://colab.research.google.com/assets/colab-badge.svg\" alt=\"Open In Colab\"/></a>"
      ]
    },
    {
      "cell_type": "code",
      "execution_count": 48,
      "metadata": {
        "id": "2AieORMSGz1Z"
      },
      "outputs": [],
      "source": [
        "import numpy as np\n",
        "import tensorflow as tf\n",
        "import tensorflow_datasets as tfds\n",
        "from tensorflow.keras.preprocessing.image import load_img, img_to_array\n",
        "from tensorflow.keras.layers import Dense, GlobalAveragePooling2D, Dropout\n",
        "import matplotlib.pyplot as plt\n",
        "from google.colab import files"
      ]
    },
    {
      "cell_type": "markdown",
      "metadata": {
        "id": "LpmhkiLhqgey"
      },
      "source": [
        "# Подгрузка датасета от Microsoft"
      ]
    },
    {
      "cell_type": "code",
      "execution_count": 49,
      "metadata": {
        "id": "_j0xeFRopQLY"
      },
      "outputs": [],
      "source": [
        "train, _ = tfds.load('cats_vs_dogs', split=['train[:100%]'], with_info=True, as_supervised=True)"
      ]
    },
    {
      "cell_type": "markdown",
      "metadata": {
        "id": "BNcFHgzysMtO"
      },
      "source": [
        "# Функция для изменения размеров изображения"
      ]
    },
    {
      "cell_type": "code",
      "execution_count": 50,
      "metadata": {
        "id": "oufZPUXVrZPj"
      },
      "outputs": [],
      "source": [
        "SIZE = (224, 224)\n",
        "def resize_image(img, label):\n",
        "  img = tf.cast(img, tf.float32)\n",
        "  img = tf.image.resize(img, SIZE)\n",
        "  img /= 255.0\n",
        "  return img, label"
      ]
    },
    {
      "cell_type": "markdown",
      "metadata": {
        "id": "XCNstZZ346Lp"
      },
      "source": [
        "# Уменьшаем размеры всех изображений, полученных из датасета"
      ]
    },
    {
      "cell_type": "code",
      "execution_count": 51,
      "metadata": {
        "id": "fb6S5QhF48zA"
      },
      "outputs": [],
      "source": [
        "train_resized = train[0].map(resize_image)\n",
        "train_batches = train_resized.shuffle(1000).batch(16)"
      ]
    },
    {
      "cell_type": "markdown",
      "metadata": {
        "id": "N6_IcT_B7hKo"
      },
      "source": [
        "# Создание основного слоя для создания модели"
      ]
    },
    {
      "cell_type": "code",
      "execution_count": 52,
      "metadata": {
        "id": "MgKkiiKW7iAG"
      },
      "outputs": [],
      "source": [
        "base_layers = tf.keras.applications.MobileNetV2(input_shape = (SIZE[0], SIZE[1], 3), include_top = False)"
      ]
    },
    {
      "cell_type": "markdown",
      "metadata": {
        "id": "rOsSWlv78TZe"
      },
      "source": [
        "# Создание модели нейронной сети"
      ]
    },
    {
      "cell_type": "code",
      "execution_count": 53,
      "metadata": {
        "id": "5SmuDExW8UU8"
      },
      "outputs": [],
      "source": [
        "from keras.backend import binary_crossentropy\n",
        "model = tf.keras.Sequential([\n",
        "    base_layers,\n",
        "    GlobalAveragePooling2D(),\n",
        "    Dropout(0.2),\n",
        "    Dense(1)\n",
        "])\n",
        "model.compile(optimizer='adam', loss=tf.keras.losses.BinaryCrossentropy(from_logits=True), metrics =['accuracy'])\n"
      ]
    },
    {
      "cell_type": "markdown",
      "metadata": {
        "id": "Pu2_NI4W-zfA"
      },
      "source": [
        "# Обучение нейронной сети (наши картинки, одна итерация обучения)"
      ]
    },
    {
      "cell_type": "code",
      "execution_count": null,
      "metadata": {
        "colab": {
          "base_uri": "https://localhost:8080/"
        },
        "id": "PLrWfUm8_Yd3",
        "outputId": "7182be11-504e-4204-c9ad-e72a703fb0cb"
      },
      "outputs": [
        {
          "output_type": "stream",
          "name": "stdout",
          "text": [
            "  33/1454 [..............................] - ETA: 1:24:33 - loss: 0.3894 - accuracy: 0.8617"
          ]
        }
      ],
      "source": [
        "model.fit(train_batches, epochs=1)"
      ]
    },
    {
      "cell_type": "markdown",
      "metadata": {
        "id": "5vzPAGsZDQXz"
      },
      "source": [
        "# Функция для подгрузки изображений"
      ]
    },
    {
      "cell_type": "code",
      "execution_count": null,
      "metadata": {
        "id": "triZYL8ZDASG"
      },
      "outputs": [],
      "source": [
        "files.upload()"
      ]
    },
    {
      "cell_type": "markdown",
      "metadata": {
        "id": "h7jmNnxzDeVT"
      },
      "source": [
        "# Название изображений"
      ]
    },
    {
      "cell_type": "code",
      "execution_count": null,
      "metadata": {
        "id": "W_k8op2xDKab"
      },
      "outputs": [],
      "source": [
        "images = ['1 (1).jpg', '1 (2).jpg', '1 (3).jpg', '1 (4).jpg', '1 (5).jpg', '1 (6).jpg', '1 (7).jpg', '1 (8).jpg', '1 (9).jpg', '1 (10).jpg', '1 (11).jpg']"
      ]
    },
    {
      "cell_type": "markdown",
      "metadata": {
        "id": "8e33BfgVDtkD"
      },
      "source": [
        "# Перебор изображений"
      ]
    },
    {
      "cell_type": "code",
      "execution_count": null,
      "metadata": {
        "id": "qKUWx7FoDx-s"
      },
      "outputs": [],
      "source": [
        "for i in images:\n",
        "\timg = load_img(i)\n",
        "\timg_array = img_to_array(img)\n",
        "\timg_resized, _ = resize_image(img_array, _)\n",
        "\timg_expended = np.expand_dims(img_resized, axis=0)\n",
        "\tprediction = model.predict(img_expended)\n",
        "\tplt.figure()\n",
        "\tplt.imshow(img)\n",
        "\tlabel = 'Собачка' if prediction > 0 else 'Кошка'\n",
        "\tplt.title('{}'.format(label))"
      ]
    }
  ],
  "metadata": {
    "colab": {
      "provenance": [],
      "authorship_tag": "ABX9TyOZW1G1umxKBTOekquJlajl",
      "include_colab_link": true
    },
    "kernelspec": {
      "display_name": "Python 3",
      "name": "python3"
    },
    "language_info": {
      "name": "python"
    }
  },
  "nbformat": 4,
  "nbformat_minor": 0
}