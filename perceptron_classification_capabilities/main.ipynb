{
  "nbformat": 4,
  "nbformat_minor": 0,
  "metadata": {
    "colab": {
      "provenance": [],
      "toc_visible": true,
      "authorship_tag": "ABX9TyMDaeVsMMSnFEFpCIvJhuRf",
      "include_colab_link": true
    },
    "kernelspec": {
      "name": "python3",
      "display_name": "Python 3"
    },
    "language_info": {
      "name": "python"
    },
    "accelerator": "GPU",
    "gpuClass": "standard"
  },
  "cells": [
    {
      "cell_type": "markdown",
      "metadata": {
        "id": "view-in-github",
        "colab_type": "text"
      },
      "source": [
        "<a href=\"https://colab.research.google.com/github/AndreySukhanov/neural_networks/blob/main/perceptron_classification_capabilities/main.ipynb\" target=\"_parent\"><img src=\"https://colab.research.google.com/assets/colab-badge.svg\" alt=\"Open In Colab\"/></a>"
      ]
    },
    {
      "cell_type": "code",
      "source": [
        "import numpy as np\n",
        "import matplotlib.pyplot as plt\n",
        "\n",
        "N = 5\n",
        "b = 3 \n",
        "\n",
        "x1 = np.random.random(N)\n",
        "x2 = x1 + [np.random.randint(10)/10 for i in range(N)] + b\n",
        "C1 = [x1, x2]\n",
        "\n",
        "x1 = np.random.random(N)\n",
        "x2 = x1 - [np.random.randint(10)/10 for i in range(N)] - 0.1 + b\n",
        "C2 = [x1, x2]\n",
        "\n",
        "f = [0+b, 1+b]\n",
        "\n",
        "w2 = 0.5\n",
        "w3 = -b*w2\n",
        "w = np.array([-w2, w2, w3])\n",
        "for i in range(N):\n",
        "    x = np.array([C1[0][i], C1[1][i], 1])\n",
        "    y = np.dot(w, x)\n",
        "    if y >= 0:\n",
        "        print(\"Class C1\")\n",
        "    else:\n",
        "        print(\"Class C2\")\n",
        "\n",
        "plt.scatter(C1[0][:], C1[1][:], s=10, c='red')\n",
        "plt.scatter(C2[0][:], C2[1][:], s=10, c='blue')\n",
        "plt.plot(f)\n",
        "plt.grid(True)\n",
        "plt.show()"
      ],
      "metadata": {
        "colab": {
          "base_uri": "https://localhost:8080/",
          "height": 355
        },
        "id": "tDhkf2m1mUye",
        "outputId": "8a6f0431-de7b-4e42-ea9f-23d70d7ca244"
      },
      "execution_count": 1,
      "outputs": [
        {
          "output_type": "stream",
          "name": "stdout",
          "text": [
            "Class C1\n",
            "Class C1\n",
            "Class C1\n",
            "Class C1\n",
            "Class C1\n"
          ]
        },
        {
          "output_type": "display_data",
          "data": {
            "text/plain": [
              "<Figure size 432x288 with 1 Axes>"
            ],
            "image/png": "[encoded data removed]"
          },
          "metadata": {
            "needs_background": "light"
          }
        }
      ]
    }
  ]
}