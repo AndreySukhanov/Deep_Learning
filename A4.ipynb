{
  "nbformat": 4,
  "nbformat_minor": 0,
  "metadata": {
    "colab": {
      "provenance": [],
      "authorship_tag": "ABX9TyMkPLO4354cbTTW0lbx04DP",
      "include_colab_link": true
    },
    "kernelspec": {
      "name": "python3",
      "display_name": "Python 3"
    },
    "language_info": {
      "name": "python"
    }
  },
  "cells": [
    {
      "cell_type": "markdown",
      "metadata": {
        "id": "view-in-github",
        "colab_type": "text"
      },
      "source": [
        "<a href=\"https://colab.research.google.com/github/AndreySukhanov/neural-networks/blob/main/A4.ipynb\" target=\"_parent\"><img src=\"https://colab.research.google.com/assets/colab-badge.svg\" alt=\"Open In Colab\"/></a>"
      ]
    },
    {
      "cell_type": "code",
      "execution_count": null,
      "metadata": {
        "id": "-FcYOuTs5tfZ"
      },
      "outputs": [],
      "source": [
        "# My first notebook A4"
      ]
    },
    {
      "cell_type": "code",
      "source": [
        "# 2 note"
      ],
      "metadata": {
        "id": "3RTprPwo932F"
      },
      "execution_count": null,
      "outputs": []
    }
  ]
}